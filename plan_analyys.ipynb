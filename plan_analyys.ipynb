{
  "nbformat": 4,
  "nbformat_minor": 0,
  "metadata": {
    "colab": {
      "name": "plan_analyys.ipynb",
      "provenance": [],
      "collapsed_sections": [],
      "authorship_tag": "ABX9TyMOxQbHQWE6bgQCCAiAeVAU",
      "include_colab_link": true
    },
    "kernelspec": {
      "name": "python3",
      "display_name": "Python 3"
    },
    "language_info": {
      "name": "python"
    }
  },
  "cells": [
    {
      "cell_type": "markdown",
      "metadata": {
        "id": "view-in-github",
        "colab_type": "text"
      },
      "source": [
        "<a href=\"https://colab.research.google.com/github/taavip/MAPlaneeringud/blob/main/plan_analyys.ipynb\" target=\"_parent\"><img src=\"https://colab.research.google.com/assets/colab-badge.svg\" alt=\"Open In Colab\"/></a>"
      ]
    },
    {
      "cell_type": "code",
      "metadata": {
        "colab": {
          "base_uri": "https://localhost:8080/"
        },
        "id": "OEN7oxjVUFLw",
        "outputId": "87cfb275-fb0a-4be3-e54b-bd2d59a3c822"
      },
      "source": [
        "%%time \n",
        "\n",
        "# Important library for many geopython libraries\n",
        "!apt install gdal-bin python-gdal python3-gdal \n",
        "# Install rtree - Geopandas requirment\n",
        "!apt install python3-rtree \n",
        "# Install Geopandas\n",
        "!pip install git+git://github.com/geopandas/geopandas.git\n",
        "# Install descartes - Geopandas requirment\n",
        "!pip install descartes \n",
        "# Install Folium for Geographic data visualization\n",
        "!pip install folium\n",
        "# Install plotlyExpress\n",
        "!pip install plotly_express"
      ],
      "execution_count": 1,
      "outputs": [
        {
          "output_type": "stream",
          "name": "stdout",
          "text": [
            "Reading package lists... Done\n",
            "Building dependency tree       \n",
            "Reading state information... Done\n",
            "gdal-bin is already the newest version (2.2.3+dfsg-2).\n",
            "python-gdal is already the newest version (2.2.3+dfsg-2).\n",
            "The following additional packages will be installed:\n",
            "  python3-numpy\n",
            "Suggested packages:\n",
            "  python-numpy-doc python3-nose python3-numpy-dbg\n",
            "The following NEW packages will be installed:\n",
            "  python3-gdal python3-numpy\n",
            "0 upgraded, 2 newly installed, 0 to remove and 40 not upgraded.\n",
            "Need to get 2,288 kB of archives.\n",
            "After this operation, 13.2 MB of additional disk space will be used.\n",
            "Get:1 http://archive.ubuntu.com/ubuntu bionic/main amd64 python3-numpy amd64 1:1.13.3-2ubuntu1 [1,943 kB]\n",
            "Get:2 http://archive.ubuntu.com/ubuntu bionic/universe amd64 python3-gdal amd64 2.2.3+dfsg-2 [346 kB]\n",
            "Fetched 2,288 kB in 1s (2,344 kB/s)\n",
            "Selecting previously unselected package python3-numpy.\n",
            "(Reading database ... 148492 files and directories currently installed.)\n",
            "Preparing to unpack .../python3-numpy_1%3a1.13.3-2ubuntu1_amd64.deb ...\n",
            "Unpacking python3-numpy (1:1.13.3-2ubuntu1) ...\n",
            "Selecting previously unselected package python3-gdal.\n",
            "Preparing to unpack .../python3-gdal_2.2.3+dfsg-2_amd64.deb ...\n",
            "Unpacking python3-gdal (2.2.3+dfsg-2) ...\n",
            "Setting up python3-numpy (1:1.13.3-2ubuntu1) ...\n",
            "Setting up python3-gdal (2.2.3+dfsg-2) ...\n",
            "Processing triggers for man-db (2.8.3-2ubuntu0.1) ...\n",
            "Reading package lists... Done\n",
            "Building dependency tree       \n",
            "Reading state information... Done\n",
            "The following additional packages will be installed:\n",
            "  libspatialindex-c4v5 libspatialindex-dev libspatialindex4v5\n",
            "  python3-pkg-resources\n",
            "Suggested packages:\n",
            "  python3-setuptools\n",
            "The following NEW packages will be installed:\n",
            "  libspatialindex-c4v5 libspatialindex-dev libspatialindex4v5\n",
            "  python3-pkg-resources python3-rtree\n",
            "0 upgraded, 5 newly installed, 0 to remove and 40 not upgraded.\n",
            "Need to get 671 kB of archives.\n",
            "After this operation, 3,948 kB of additional disk space will be used.\n",
            "Get:1 http://archive.ubuntu.com/ubuntu bionic/universe amd64 libspatialindex4v5 amd64 1.8.5-5 [219 kB]\n",
            "Get:2 http://archive.ubuntu.com/ubuntu bionic/universe amd64 libspatialindex-c4v5 amd64 1.8.5-5 [51.7 kB]\n",
            "Get:3 http://archive.ubuntu.com/ubuntu bionic/main amd64 python3-pkg-resources all 39.0.1-2 [98.8 kB]\n",
            "Get:4 http://archive.ubuntu.com/ubuntu bionic/universe amd64 libspatialindex-dev amd64 1.8.5-5 [285 kB]\n",
            "Get:5 http://archive.ubuntu.com/ubuntu bionic/universe amd64 python3-rtree all 0.8.3+ds-1 [16.9 kB]\n",
            "Fetched 671 kB in 1s (802 kB/s)\n",
            "Selecting previously unselected package libspatialindex4v5:amd64.\n",
            "(Reading database ... 148902 files and directories currently installed.)\n",
            "Preparing to unpack .../libspatialindex4v5_1.8.5-5_amd64.deb ...\n",
            "Unpacking libspatialindex4v5:amd64 (1.8.5-5) ...\n",
            "Selecting previously unselected package libspatialindex-c4v5:amd64.\n",
            "Preparing to unpack .../libspatialindex-c4v5_1.8.5-5_amd64.deb ...\n",
            "Unpacking libspatialindex-c4v5:amd64 (1.8.5-5) ...\n",
            "Selecting previously unselected package python3-pkg-resources.\n",
            "Preparing to unpack .../python3-pkg-resources_39.0.1-2_all.deb ...\n",
            "Unpacking python3-pkg-resources (39.0.1-2) ...\n",
            "Selecting previously unselected package libspatialindex-dev:amd64.\n",
            "Preparing to unpack .../libspatialindex-dev_1.8.5-5_amd64.deb ...\n",
            "Unpacking libspatialindex-dev:amd64 (1.8.5-5) ...\n",
            "Selecting previously unselected package python3-rtree.\n",
            "Preparing to unpack .../python3-rtree_0.8.3+ds-1_all.deb ...\n",
            "Unpacking python3-rtree (0.8.3+ds-1) ...\n",
            "Setting up libspatialindex4v5:amd64 (1.8.5-5) ...\n",
            "Setting up python3-pkg-resources (39.0.1-2) ...\n",
            "Setting up libspatialindex-c4v5:amd64 (1.8.5-5) ...\n",
            "Setting up libspatialindex-dev:amd64 (1.8.5-5) ...\n",
            "Setting up python3-rtree (0.8.3+ds-1) ...\n",
            "Processing triggers for libc-bin (2.27-3ubuntu1.2) ...\n",
            "/sbin/ldconfig.real: /usr/local/lib/python3.7/dist-packages/ideep4py/lib/libmkldnn.so.0 is not a symbolic link\n",
            "\n",
            "Collecting git+git://github.com/geopandas/geopandas.git\n",
            "  Cloning git://github.com/geopandas/geopandas.git to /tmp/pip-req-build-bf__hkch\n",
            "  Running command git clone -q git://github.com/geopandas/geopandas.git /tmp/pip-req-build-bf__hkch\n",
            "Requirement already satisfied: pandas>=0.25.0 in /usr/local/lib/python3.7/dist-packages (from geopandas==0.9.0+77.g8caa139) (1.1.5)\n",
            "Requirement already satisfied: shapely>=1.6 in /usr/local/lib/python3.7/dist-packages (from geopandas==0.9.0+77.g8caa139) (1.7.1)\n",
            "Collecting fiona>=1.8\n",
            "  Downloading Fiona-1.8.20-cp37-cp37m-manylinux1_x86_64.whl (15.4 MB)\n",
            "\u001b[K     |████████████████████████████████| 15.4 MB 36 kB/s \n",
            "\u001b[?25hCollecting pyproj>=2.2.0\n",
            "  Downloading pyproj-3.2.0-cp37-cp37m-manylinux_2_24_x86_64.whl (6.3 MB)\n",
            "\u001b[K     |████████████████████████████████| 6.3 MB 34.0 MB/s \n",
            "\u001b[?25hRequirement already satisfied: six>=1.7 in /usr/local/lib/python3.7/dist-packages (from fiona>=1.8->geopandas==0.9.0+77.g8caa139) (1.15.0)\n",
            "Requirement already satisfied: setuptools in /usr/local/lib/python3.7/dist-packages (from fiona>=1.8->geopandas==0.9.0+77.g8caa139) (57.4.0)\n",
            "Requirement already satisfied: click>=4.0 in /usr/local/lib/python3.7/dist-packages (from fiona>=1.8->geopandas==0.9.0+77.g8caa139) (7.1.2)\n",
            "Requirement already satisfied: certifi in /usr/local/lib/python3.7/dist-packages (from fiona>=1.8->geopandas==0.9.0+77.g8caa139) (2021.5.30)\n",
            "Collecting click-plugins>=1.0\n",
            "  Downloading click_plugins-1.1.1-py2.py3-none-any.whl (7.5 kB)\n",
            "Collecting munch\n",
            "  Downloading munch-2.5.0-py2.py3-none-any.whl (10 kB)\n",
            "Requirement already satisfied: attrs>=17 in /usr/local/lib/python3.7/dist-packages (from fiona>=1.8->geopandas==0.9.0+77.g8caa139) (21.2.0)\n",
            "Collecting cligj>=0.5\n",
            "  Downloading cligj-0.7.2-py3-none-any.whl (7.1 kB)\n",
            "Requirement already satisfied: numpy>=1.15.4 in /usr/local/lib/python3.7/dist-packages (from pandas>=0.25.0->geopandas==0.9.0+77.g8caa139) (1.19.5)\n",
            "Requirement already satisfied: pytz>=2017.2 in /usr/local/lib/python3.7/dist-packages (from pandas>=0.25.0->geopandas==0.9.0+77.g8caa139) (2018.9)\n",
            "Requirement already satisfied: python-dateutil>=2.7.3 in /usr/local/lib/python3.7/dist-packages (from pandas>=0.25.0->geopandas==0.9.0+77.g8caa139) (2.8.2)\n",
            "Building wheels for collected packages: geopandas\n",
            "  Building wheel for geopandas (setup.py) ... \u001b[?25l\u001b[?25hdone\n",
            "  Created wheel for geopandas: filename=geopandas-0.9.0+77.g8caa139-py2.py3-none-any.whl size=1000551 sha256=40ec37e1b24d747e0e11e958420b1d632196dfeaf42e37f8049122197b73a595\n",
            "  Stored in directory: /tmp/pip-ephem-wheel-cache-b4n5cf4p/wheels/cf/3e/0b/6475054094c2b1ea054158ac1fdcf749fb92f5b512377e4cf8\n",
            "Successfully built geopandas\n",
            "Installing collected packages: munch, cligj, click-plugins, pyproj, fiona, geopandas\n",
            "Successfully installed click-plugins-1.1.1 cligj-0.7.2 fiona-1.8.20 geopandas-0.9.0+77.g8caa139 munch-2.5.0 pyproj-3.2.0\n",
            "Requirement already satisfied: descartes in /usr/local/lib/python3.7/dist-packages (1.1.0)\n",
            "Requirement already satisfied: matplotlib in /usr/local/lib/python3.7/dist-packages (from descartes) (3.2.2)\n",
            "Requirement already satisfied: cycler>=0.10 in /usr/local/lib/python3.7/dist-packages (from matplotlib->descartes) (0.10.0)\n",
            "Requirement already satisfied: kiwisolver>=1.0.1 in /usr/local/lib/python3.7/dist-packages (from matplotlib->descartes) (1.3.1)\n",
            "Requirement already satisfied: pyparsing!=2.0.4,!=2.1.2,!=2.1.6,>=2.0.1 in /usr/local/lib/python3.7/dist-packages (from matplotlib->descartes) (2.4.7)\n",
            "Requirement already satisfied: numpy>=1.11 in /usr/local/lib/python3.7/dist-packages (from matplotlib->descartes) (1.19.5)\n",
            "Requirement already satisfied: python-dateutil>=2.1 in /usr/local/lib/python3.7/dist-packages (from matplotlib->descartes) (2.8.2)\n",
            "Requirement already satisfied: six in /usr/local/lib/python3.7/dist-packages (from cycler>=0.10->matplotlib->descartes) (1.15.0)\n",
            "Requirement already satisfied: folium in /usr/local/lib/python3.7/dist-packages (0.8.3)\n",
            "Requirement already satisfied: requests in /usr/local/lib/python3.7/dist-packages (from folium) (2.23.0)\n",
            "Requirement already satisfied: six in /usr/local/lib/python3.7/dist-packages (from folium) (1.15.0)\n",
            "Requirement already satisfied: numpy in /usr/local/lib/python3.7/dist-packages (from folium) (1.19.5)\n",
            "Requirement already satisfied: jinja2 in /usr/local/lib/python3.7/dist-packages (from folium) (2.11.3)\n",
            "Requirement already satisfied: branca>=0.3.0 in /usr/local/lib/python3.7/dist-packages (from folium) (0.4.2)\n",
            "Requirement already satisfied: MarkupSafe>=0.23 in /usr/local/lib/python3.7/dist-packages (from jinja2->folium) (2.0.1)\n",
            "Requirement already satisfied: chardet<4,>=3.0.2 in /usr/local/lib/python3.7/dist-packages (from requests->folium) (3.0.4)\n",
            "Requirement already satisfied: certifi>=2017.4.17 in /usr/local/lib/python3.7/dist-packages (from requests->folium) (2021.5.30)\n",
            "Requirement already satisfied: urllib3!=1.25.0,!=1.25.1,<1.26,>=1.21.1 in /usr/local/lib/python3.7/dist-packages (from requests->folium) (1.24.3)\n",
            "Requirement already satisfied: idna<3,>=2.5 in /usr/local/lib/python3.7/dist-packages (from requests->folium) (2.10)\n",
            "Collecting plotly_express\n",
            "  Downloading plotly_express-0.4.1-py2.py3-none-any.whl (2.9 kB)\n",
            "Requirement already satisfied: scipy>=0.18 in /usr/local/lib/python3.7/dist-packages (from plotly_express) (1.4.1)\n",
            "Requirement already satisfied: patsy>=0.5 in /usr/local/lib/python3.7/dist-packages (from plotly_express) (0.5.1)\n",
            "Requirement already satisfied: plotly>=4.1.0 in /usr/local/lib/python3.7/dist-packages (from plotly_express) (4.4.1)\n",
            "Requirement already satisfied: statsmodels>=0.9.0 in /usr/local/lib/python3.7/dist-packages (from plotly_express) (0.10.2)\n",
            "Requirement already satisfied: pandas>=0.20.0 in /usr/local/lib/python3.7/dist-packages (from plotly_express) (1.1.5)\n",
            "Requirement already satisfied: numpy>=1.11 in /usr/local/lib/python3.7/dist-packages (from plotly_express) (1.19.5)\n",
            "Requirement already satisfied: python-dateutil>=2.7.3 in /usr/local/lib/python3.7/dist-packages (from pandas>=0.20.0->plotly_express) (2.8.2)\n",
            "Requirement already satisfied: pytz>=2017.2 in /usr/local/lib/python3.7/dist-packages (from pandas>=0.20.0->plotly_express) (2018.9)\n",
            "Requirement already satisfied: six in /usr/local/lib/python3.7/dist-packages (from patsy>=0.5->plotly_express) (1.15.0)\n",
            "Requirement already satisfied: retrying>=1.3.3 in /usr/local/lib/python3.7/dist-packages (from plotly>=4.1.0->plotly_express) (1.3.3)\n",
            "Installing collected packages: plotly-express\n",
            "Successfully installed plotly-express-0.4.1\n",
            "CPU times: user 522 ms, sys: 128 ms, total: 650 ms\n",
            "Wall time: 45.1 s\n"
          ]
        }
      ]
    },
    {
      "cell_type": "code",
      "metadata": {
        "colab": {
          "base_uri": "https://localhost:8080/"
        },
        "id": "gPfLleGWUsJG",
        "outputId": "363fc938-d17b-4d88-e438-2c2197aca2a4"
      },
      "source": [
        "pip install owslib"
      ],
      "execution_count": 2,
      "outputs": [
        {
          "output_type": "stream",
          "name": "stdout",
          "text": [
            "Collecting owslib\n",
            "  Downloading OWSLib-0.25.0-py2.py3-none-any.whl (216 kB)\n",
            "\u001b[?25l\r\u001b[K     |█▌                              | 10 kB 12.0 MB/s eta 0:00:01\r\u001b[K     |███                             | 20 kB 8.6 MB/s eta 0:00:01\r\u001b[K     |████▌                           | 30 kB 7.8 MB/s eta 0:00:01\r\u001b[K     |██████                          | 40 kB 7.2 MB/s eta 0:00:01\r\u001b[K     |███████▋                        | 51 kB 5.1 MB/s eta 0:00:01\r\u001b[K     |█████████                       | 61 kB 5.2 MB/s eta 0:00:01\r\u001b[K     |██████████▋                     | 71 kB 5.0 MB/s eta 0:00:01\r\u001b[K     |████████████                    | 81 kB 5.6 MB/s eta 0:00:01\r\u001b[K     |█████████████▋                  | 92 kB 5.7 MB/s eta 0:00:01\r\u001b[K     |███████████████▏                | 102 kB 5.0 MB/s eta 0:00:01\r\u001b[K     |████████████████▋               | 112 kB 5.0 MB/s eta 0:00:01\r\u001b[K     |██████████████████▏             | 122 kB 5.0 MB/s eta 0:00:01\r\u001b[K     |███████████████████▊            | 133 kB 5.0 MB/s eta 0:00:01\r\u001b[K     |█████████████████████▏          | 143 kB 5.0 MB/s eta 0:00:01\r\u001b[K     |██████████████████████▊         | 153 kB 5.0 MB/s eta 0:00:01\r\u001b[K     |████████████████████████▏       | 163 kB 5.0 MB/s eta 0:00:01\r\u001b[K     |█████████████████████████▊      | 174 kB 5.0 MB/s eta 0:00:01\r\u001b[K     |███████████████████████████▎    | 184 kB 5.0 MB/s eta 0:00:01\r\u001b[K     |████████████████████████████▊   | 194 kB 5.0 MB/s eta 0:00:01\r\u001b[K     |██████████████████████████████▎ | 204 kB 5.0 MB/s eta 0:00:01\r\u001b[K     |███████████████████████████████▉| 215 kB 5.0 MB/s eta 0:00:01\r\u001b[K     |████████████████████████████████| 216 kB 5.0 MB/s \n",
            "\u001b[?25hRequirement already satisfied: pytz in /usr/local/lib/python3.7/dist-packages (from owslib) (2018.9)\n",
            "Requirement already satisfied: pyyaml in /usr/local/lib/python3.7/dist-packages (from owslib) (3.13)\n",
            "Requirement already satisfied: python-dateutil>=1.5 in /usr/local/lib/python3.7/dist-packages (from owslib) (2.8.2)\n",
            "Requirement already satisfied: requests>=1.0 in /usr/local/lib/python3.7/dist-packages (from owslib) (2.23.0)\n",
            "Requirement already satisfied: pyproj>=2 in /usr/local/lib/python3.7/dist-packages (from owslib) (3.2.0)\n",
            "Requirement already satisfied: certifi in /usr/local/lib/python3.7/dist-packages (from pyproj>=2->owslib) (2021.5.30)\n",
            "Requirement already satisfied: six>=1.5 in /usr/local/lib/python3.7/dist-packages (from python-dateutil>=1.5->owslib) (1.15.0)\n",
            "Requirement already satisfied: chardet<4,>=3.0.2 in /usr/local/lib/python3.7/dist-packages (from requests>=1.0->owslib) (3.0.4)\n",
            "Requirement already satisfied: idna<3,>=2.5 in /usr/local/lib/python3.7/dist-packages (from requests>=1.0->owslib) (2.10)\n",
            "Requirement already satisfied: urllib3!=1.25.0,!=1.25.1,<1.26,>=1.21.1 in /usr/local/lib/python3.7/dist-packages (from requests>=1.0->owslib) (1.24.3)\n",
            "Installing collected packages: owslib\n",
            "Successfully installed owslib-0.25.0\n"
          ]
        }
      ]
    },
    {
      "cell_type": "code",
      "metadata": {
        "id": "u_DPb4lOTvej"
      },
      "source": [
        "import pandas as pd\n",
        "import sklearn\n",
        "import geopandas as gpd\n",
        "from requests import Request\n",
        "from owslib.wfs import WebFeatureService\n",
        "\n",
        "# URL for WFS backend\n",
        "url = \"https://gsavalik.envir.ee/geoserver/planeeringud/ows?service=WFS\"\n",
        "\n",
        "# Initialize\n",
        "wfs = WebFeatureService(url=url)\n",
        "\n",
        "# Get data from WFS\n",
        "# -----------------\n",
        "\n",
        "# Fetch the last available layer (as an example) --> 'vaestoruutu:vaki2017_5km'\n",
        "layers = list(wfs.contents)\n",
        "layer = layers[3]\n",
        "\n",
        "# Specify the parameters for fetching the data\n",
        "params = dict(service='WFS', version=\"1.1.0\", request='GetFeature',\n",
        "      typeName=layer, outputFormat='json')\n",
        "\n",
        "# Parse the URL with parameters\n",
        "q = Request('GET', url, params=params).prepare().url\n",
        "\n",
        "# Read data from URL\n",
        "data = gpd.read_file(q)"
      ],
      "execution_count": 4,
      "outputs": []
    },
    {
      "cell_type": "code",
      "metadata": {
        "colab": {
          "base_uri": "https://localhost:8080/"
        },
        "id": "0nGRpm4OU1FQ",
        "outputId": "25a4251e-f65e-46f0-818d-192e7df3ffd2"
      },
      "source": [
        "layers"
      ],
      "execution_count": 5,
      "outputs": [
        {
          "output_type": "execute_result",
          "data": {
            "text/plain": [
              "['planeeringud:detail_plan_juurdep',\n",
              " 'planeeringud:detail_plan_sund',\n",
              " 'planeeringud:detail_plan_avalik',\n",
              " 'planeeringud:detail_plan_ala',\n",
              " 'planeeringud:detail_plan_haljastus',\n",
              " 'planeeringud:detail_plan_hoonestus',\n",
              " 'planeeringud:detail_plan_kktingimus',\n",
              " 'planeeringud:detail_plan_krunt',\n",
              " 'planeeringud:detail_plan_kuja',\n",
              " 'planeeringud:detail_plan_maapar',\n",
              " 'planeeringud:detail_plan_rajatis',\n",
              " 'planeeringud:detail_plan_servituut',\n",
              " 'planeeringud:detail_plan_transp',\n",
              " 'planeeringud:detail_plan_tehno',\n",
              " 'planeeringud:detail_plan_tingimus',\n",
              " 'planeeringud:detail_plan_valveplaan',\n",
              " 'planeeringud:detail_plan_valveplaan_osa',\n",
              " 'planeeringud:ehak_tiheasustus',\n",
              " 'planeeringud:rb_planeeringutrass',\n",
              " 'planeeringud:yld_plan_vaartvaade',\n",
              " 'planeeringud:yld_plan_ala',\n",
              " 'planeeringud:yld_plan_juurdep',\n",
              " 'planeeringud:detail_plan_koko',\n",
              " 'planeeringud:yld_plan_jaade',\n",
              " 'planeeringud:yld_plan_kktingimus',\n",
              " 'planeeringud:yld_plan_maakas',\n",
              " 'planeeringud:yld_plan_vaartmiljoo',\n",
              " 'planeeringud:yld_plan_ala_osa',\n",
              " 'planeeringud:maaamet__rohealad',\n",
              " 'planeeringud:yld_plan_ekv',\n",
              " 'planeeringud:yld_plan_rohev',\n",
              " 'planeeringud:yld_plan_rand',\n",
              " 'planeeringud:yld_plan_tehno',\n",
              " 'planeeringud:yld_plan_tiheasustus',\n",
              " 'planeeringud:yld_plan_tingimus',\n",
              " 'planeeringud:yld_plan_transp',\n",
              " 'planeeringud:yld_plan_vaartmaastik',\n",
              " 'planeeringud:yld_plan_vaartpollum']"
            ]
          },
          "metadata": {},
          "execution_count": 5
        }
      ]
    },
    {
      "cell_type": "code",
      "metadata": {
        "colab": {
          "base_uri": "https://localhost:8080/",
          "height": 369
        },
        "id": "S5Ob89KPVbiw",
        "outputId": "3264701f-197f-424f-f9da-4aa893a75c34"
      },
      "source": [
        "data.hist()\n"
      ],
      "execution_count": 8,
      "outputs": [
        {
          "output_type": "execute_result",
          "data": {
            "text/plain": [
              "array([[<matplotlib.axes._subplots.AxesSubplot object at 0x7f89c35ce510>,\n",
              "        <matplotlib.axes._subplots.AxesSubplot object at 0x7f89c35e7b10>],\n",
              "       [<matplotlib.axes._subplots.AxesSubplot object at 0x7f89c35f7d50>,\n",
              "        <matplotlib.axes._subplots.AxesSubplot object at 0x7f89c3604bd0>]],\n",
              "      dtype=object)"
            ]
          },
          "metadata": {},
          "execution_count": 8
        },
        {
          "output_type": "display_data",
          "data": {
            "image/png": "[encoded data removed]",
            "text/plain": [
              "<Figure size 432x288 with 4 Axes>"
            ]
          },
          "metadata": {
            "needs_background": "light"
          }
        }
      ]
    },
    {
      "cell_type": "code",
      "metadata": {
        "id": "DJ5MGUg0V_uJ"
      },
      "source": [
        "data[\"vastuvkp\"] = data[\"vastuvkp\"].astype(\"datetime64\")"
      ],
      "execution_count": 12,
      "outputs": []
    },
    {
      "cell_type": "code",
      "metadata": {
        "colab": {
          "base_uri": "https://localhost:8080/",
          "height": 310
        },
        "id": "o954tuzDWaMu",
        "outputId": "1d511c94-6975-4402-a5f9-b8500190c454"
      },
      "source": [
        "data[\"vastuvkp\"].groupby(data[\"vastuvkp\"].dt.month).count().plot(kind=\"bar\")"
      ],
      "execution_count": 14,
      "outputs": [
        {
          "output_type": "execute_result",
          "data": {
            "text/plain": [
              "<matplotlib.axes._subplots.AxesSubplot at 0x7fabf3ad3450>"
            ]
          },
          "metadata": {},
          "execution_count": 14
        },
        {
          "output_type": "display_data",
          "data": {
            "image/png": "[encoded data removed]",
            "text/plain": [
              "<Figure size 432x288 with 1 Axes>"
            ]
          },
          "metadata": {
            "needs_background": "light"
          }
        }
      ]
    },
    {
      "cell_type": "code",
      "metadata": {
        "colab": {
          "base_uri": "https://localhost:8080/",
          "height": 322
        },
        "id": "tOgbXLCVWgqK",
        "outputId": "f2b2af76-34ae-4818-a4b9-f81c3ddcc781"
      },
      "source": [
        "data[\"vastuvkp\"].groupby(data[\"vastuvkp\"].dt.year).count().plot(kind=\"bar\")"
      ],
      "execution_count": 15,
      "outputs": [
        {
          "output_type": "execute_result",
          "data": {
            "text/plain": [
              "<matplotlib.axes._subplots.AxesSubplot at 0x7fabf44b0d50>"
            ]
          },
          "metadata": {},
          "execution_count": 15
        },
        {
          "output_type": "display_data",
          "data": {
            "image/png": "[encoded data removed]",
            "text/plain": [
              "<Figure size 432x288 with 1 Axes>"
            ]
          },
          "metadata": {
            "needs_background": "light"
          }
        }
      ]
    },
    {
      "cell_type": "code",
      "metadata": {
        "colab": {
          "base_uri": "https://localhost:8080/",
          "height": 941
        },
        "id": "NvZO5M7q9qhQ",
        "outputId": "7ab4a335-8656-47ad-8124-aa94e5c2c4f9"
      },
      "source": [
        "data"
      ],
      "execution_count": 11,
      "outputs": [
        {
          "output_type": "execute_result",
          "data": {
            "text/html": [
              "<div>\n",
              "<style scoped>\n",
              "    .dataframe tbody tr th:only-of-type {\n",
              "        vertical-align: middle;\n",
              "    }\n",
              "\n",
              "    .dataframe tbody tr th {\n",
              "        vertical-align: top;\n",
              "    }\n",
              "\n",
              "    .dataframe thead th {\n",
              "        text-align: right;\n",
              "    }\n",
              "</style>\n",
              "<table border=\"1\" class=\"dataframe\">\n",
              "  <thead>\n",
              "    <tr style=\"text-align: right;\">\n",
              "      <th></th>\n",
              "      <th>id</th>\n",
              "      <th>sys_id</th>\n",
              "      <th>planid</th>\n",
              "      <th>dp_kiht</th>\n",
              "      <th>oid</th>\n",
              "      <th>okood</th>\n",
              "      <th>plannim</th>\n",
              "      <th>planliik</th>\n",
              "      <th>planliik_vaste</th>\n",
              "      <th>planeesm</th>\n",
              "      <th>planseis</th>\n",
              "      <th>planseis_vaste</th>\n",
              "      <th>algatkp</th>\n",
              "      <th>vastuvkp</th>\n",
              "      <th>kehtestkp</th>\n",
              "      <th>planksh</th>\n",
              "      <th>planviide</th>\n",
              "      <th>muutkp</th>\n",
              "      <th>muutnr</th>\n",
              "      <th>seos_ma</th>\n",
              "      <th>arhiiv_digi</th>\n",
              "      <th>avalik</th>\n",
              "      <th>plan_kihid</th>\n",
              "      <th>yp_muutev</th>\n",
              "      <th>allikas</th>\n",
              "      <th>stamp_upd</th>\n",
              "      <th>geometry</th>\n",
              "    </tr>\n",
              "  </thead>\n",
              "  <tbody>\n",
              "    <tr>\n",
              "      <th>0</th>\n",
              "      <td>detail_plan_ala.0</td>\n",
              "      <td>21349</td>\n",
              "      <td>86552</td>\n",
              "      <td>DP_plan_ala</td>\n",
              "      <td>9</td>\n",
              "      <td>622.0</td>\n",
              "      <td>Põlva linnas perspektiivse Kaasiku tn 9 maaüks...</td>\n",
              "      <td>30</td>\n",
              "      <td>Detailplaneering</td>\n",
              "      <td>Perspektiivsele Kaasiku tn 9 maaüksusele  eriv...</td>\n",
              "      <td>10</td>\n",
              "      <td>Planeering on kehtiv</td>\n",
              "      <td>2020-05-06</td>\n",
              "      <td>2020-11-11</td>\n",
              "      <td>2021-01-27</td>\n",
              "      <td>None</td>\n",
              "      <td>http://delta.andmevara.ee/polva2014_vald/dokum...</td>\n",
              "      <td>None</td>\n",
              "      <td>None</td>\n",
              "      <td>Maa-ameti digiarhiivi esitatud</td>\n",
              "      <td>arhiveeritud ja digiteeritud</td>\n",
              "      <td>jah</td>\n",
              "      <td>digiteeritud ja esitatud kehtestamisel</td>\n",
              "      <td>None</td>\n",
              "      <td>MA sisestatud</td>\n",
              "      <td>2021-08-17</td>\n",
              "      <td>MULTILINESTRING ((405637.830 6453995.890, 4056...</td>\n",
              "    </tr>\n",
              "    <tr>\n",
              "      <th>1</th>\n",
              "      <td>detail_plan_ala.1</td>\n",
              "      <td>21350</td>\n",
              "      <td>15786</td>\n",
              "      <td>DP_plan_ala</td>\n",
              "      <td>3</td>\n",
              "      <td>784.0</td>\n",
              "      <td>Asula tn 6d, 8a, 8b, 14, 14a, 14b, 16c ja 16d ...</td>\n",
              "      <td>30</td>\n",
              "      <td>Detailplaneering</td>\n",
              "      <td>None</td>\n",
              "      <td>15</td>\n",
              "      <td>Planeering on osaliselt kehtiv või osa planeer...</td>\n",
              "      <td>2005-11-02</td>\n",
              "      <td>2010-09-29</td>\n",
              "      <td>2020-11-26</td>\n",
              "      <td>None</td>\n",
              "      <td>https://tpr.tallinn.ee/Link/Proceeding/DP020420</td>\n",
              "      <td>None</td>\n",
              "      <td>None</td>\n",
              "      <td>Maa-ameti digiarhiivi esitatud</td>\n",
              "      <td>arhiveeritud ja digiteeritud</td>\n",
              "      <td>jah</td>\n",
              "      <td>digiteeritud ja esitatud kehtestamisel</td>\n",
              "      <td>None</td>\n",
              "      <td>MA sisestatud</td>\n",
              "      <td>2021-08-17</td>\n",
              "      <td>MULTILINESTRING ((728955.000 6599304.019, 7289...</td>\n",
              "    </tr>\n",
              "    <tr>\n",
              "      <th>2</th>\n",
              "      <td>detail_plan_ala.2</td>\n",
              "      <td>21351</td>\n",
              "      <td>68127</td>\n",
              "      <td>DP_plan_ala</td>\n",
              "      <td>20</td>\n",
              "      <td>725.0</td>\n",
              "      <td>Kinnistu Uuetalu I detailplaneering</td>\n",
              "      <td>30</td>\n",
              "      <td>Detailplaneering</td>\n",
              "      <td>Detailplaneeringu  eesmärgiks  on  elamukrunti...</td>\n",
              "      <td>10</td>\n",
              "      <td>Planeering on kehtiv</td>\n",
              "      <td>2001-04-19</td>\n",
              "      <td>None</td>\n",
              "      <td>2002-06-27</td>\n",
              "      <td>None</td>\n",
              "      <td>None</td>\n",
              "      <td>None</td>\n",
              "      <td>None</td>\n",
              "      <td>seos Maa-ametiga puudub</td>\n",
              "      <td>None</td>\n",
              "      <td>jah</td>\n",
              "      <td>digiteeritud pilootprojekti käigus</td>\n",
              "      <td>None</td>\n",
              "      <td>MA sisestatud</td>\n",
              "      <td>2021-08-17</td>\n",
              "      <td>POLYGON ((532432.710 6574761.520, 532422.860 6...</td>\n",
              "    </tr>\n",
              "    <tr>\n",
              "      <th>3</th>\n",
              "      <td>detail_plan_ala.3</td>\n",
              "      <td>21352</td>\n",
              "      <td>94474</td>\n",
              "      <td>DP_plan_ala</td>\n",
              "      <td>20</td>\n",
              "      <td>432.0</td>\n",
              "      <td>Luunja vallas Rõõmu külas Uus Teearu (43201:00...</td>\n",
              "      <td>30</td>\n",
              "      <td>Detailplaneering</td>\n",
              "      <td>Üksikelamute ehitamine</td>\n",
              "      <td>10</td>\n",
              "      <td>Planeering on kehtiv</td>\n",
              "      <td>2019-11-28</td>\n",
              "      <td>2021-01-28</td>\n",
              "      <td>2021-04-21</td>\n",
              "      <td>None</td>\n",
              "      <td>https://atp.amphora.ee/luunjavv/index.aspx?it...</td>\n",
              "      <td>None</td>\n",
              "      <td>None</td>\n",
              "      <td>Maa-ameti digiarhiivi esitatud</td>\n",
              "      <td>arhiveeritud ja digiteeritud</td>\n",
              "      <td>jah</td>\n",
              "      <td>digiteeritud ja esitatud kehtestamisel</td>\n",
              "      <td>None</td>\n",
              "      <td>MA sisestatud</td>\n",
              "      <td>2021-08-17</td>\n",
              "      <td>POLYGON ((531739.900 6579651.330, 531738.210 6...</td>\n",
              "    </tr>\n",
              "    <tr>\n",
              "      <th>4</th>\n",
              "      <td>detail_plan_ala.4</td>\n",
              "      <td>21353</td>\n",
              "      <td>51227</td>\n",
              "      <td>DP_plan_ala</td>\n",
              "      <td>16</td>\n",
              "      <td>725.0</td>\n",
              "      <td>Nissi tee 24a detailplaneering</td>\n",
              "      <td>30</td>\n",
              "      <td>Detailplaneering</td>\n",
              "      <td>Detailplaneeringu eesmärgiks on kinnistu jagam...</td>\n",
              "      <td>10</td>\n",
              "      <td>Planeering on kehtiv</td>\n",
              "      <td>2016-11-21</td>\n",
              "      <td>None</td>\n",
              "      <td>2017-12-13</td>\n",
              "      <td>None</td>\n",
              "      <td>None</td>\n",
              "      <td>None</td>\n",
              "      <td>None</td>\n",
              "      <td>seos Maa-ametiga puudub</td>\n",
              "      <td>None</td>\n",
              "      <td>jah</td>\n",
              "      <td>digiteeritud pilootprojekti käigus</td>\n",
              "      <td>None</td>\n",
              "      <td>MA sisestatud</td>\n",
              "      <td>2021-08-17</td>\n",
              "      <td>POLYGON ((529459.550 6580755.884, 529541.414 6...</td>\n",
              "    </tr>\n",
              "    <tr>\n",
              "      <th>...</th>\n",
              "      <td>...</td>\n",
              "      <td>...</td>\n",
              "      <td>...</td>\n",
              "      <td>...</td>\n",
              "      <td>...</td>\n",
              "      <td>...</td>\n",
              "      <td>...</td>\n",
              "      <td>...</td>\n",
              "      <td>...</td>\n",
              "      <td>...</td>\n",
              "      <td>...</td>\n",
              "      <td>...</td>\n",
              "      <td>...</td>\n",
              "      <td>...</td>\n",
              "      <td>...</td>\n",
              "      <td>...</td>\n",
              "      <td>...</td>\n",
              "      <td>...</td>\n",
              "      <td>...</td>\n",
              "      <td>...</td>\n",
              "      <td>...</td>\n",
              "      <td>...</td>\n",
              "      <td>...</td>\n",
              "      <td>...</td>\n",
              "      <td>...</td>\n",
              "      <td>...</td>\n",
              "      <td>...</td>\n",
              "    </tr>\n",
              "    <tr>\n",
              "      <th>315</th>\n",
              "      <td>detail_plan_ala.315</td>\n",
              "      <td>21664</td>\n",
              "      <td>14770</td>\n",
              "      <td>DP_plan_ala</td>\n",
              "      <td>3</td>\n",
              "      <td>NaN</td>\n",
              "      <td>VIRU VÄLJAKU DETAILPLANEERING</td>\n",
              "      <td>30</td>\n",
              "      <td>Detailplaneering</td>\n",
              "      <td>Viru väljakul kruntide moodustamine ja neile ä...</td>\n",
              "      <td>10</td>\n",
              "      <td>Planeering on kehtiv</td>\n",
              "      <td>None</td>\n",
              "      <td>None</td>\n",
              "      <td>1999-05-06</td>\n",
              "      <td>ei</td>\n",
              "      <td>&lt;a target=\"_blank\" href=https://tpr.tallinn.ee...</td>\n",
              "      <td>None</td>\n",
              "      <td>None</td>\n",
              "      <td>None</td>\n",
              "      <td>None</td>\n",
              "      <td>jah</td>\n",
              "      <td>taasdigiteeritud hindamise jaoks</td>\n",
              "      <td>ei</td>\n",
              "      <td>Digitaliseeritud</td>\n",
              "      <td>2021-08-25</td>\n",
              "      <td>POLYGON ((542728.030 6588999.680, 542735.280 6...</td>\n",
              "    </tr>\n",
              "    <tr>\n",
              "      <th>316</th>\n",
              "      <td>detail_plan_ala.316</td>\n",
              "      <td>21665</td>\n",
              "      <td>14803</td>\n",
              "      <td>DP_plan_ala</td>\n",
              "      <td>None</td>\n",
              "      <td>NaN</td>\n",
              "      <td>LIIVALAIA, MAAKRI JA KIVISILLA TÄNAVATE NING T...</td>\n",
              "      <td>30</td>\n",
              "      <td>Detailplaneering</td>\n",
              "      <td>0</td>\n",
              "      <td>10</td>\n",
              "      <td>Planeering on kehtiv</td>\n",
              "      <td>None</td>\n",
              "      <td>None</td>\n",
              "      <td>1994-05-05</td>\n",
              "      <td>ei</td>\n",
              "      <td>&lt;a target=\"_blank\" href=https://tpr.tallinn.ee...</td>\n",
              "      <td>None</td>\n",
              "      <td>None</td>\n",
              "      <td>None</td>\n",
              "      <td>None</td>\n",
              "      <td>jah</td>\n",
              "      <td>taasdigiteeritud hindamise jaoks</td>\n",
              "      <td>ei</td>\n",
              "      <td>Digitaliseeritud</td>\n",
              "      <td>2021-08-25</td>\n",
              "      <td>POLYGON ((543119.790 6588659.300, 543076.410 6...</td>\n",
              "    </tr>\n",
              "    <tr>\n",
              "      <th>317</th>\n",
              "      <td>detail_plan_ala.317</td>\n",
              "      <td>21666</td>\n",
              "      <td>96633</td>\n",
              "      <td>DP_plan_ala</td>\n",
              "      <td>58</td>\n",
              "      <td>NaN</td>\n",
              "      <td>Posti tn 57 katastriüksuse detailplaneering</td>\n",
              "      <td>30</td>\n",
              "      <td>Detailplaneering</td>\n",
              "      <td>Detailplaneeringu eesmärk on krundi ehitusõigu...</td>\n",
              "      <td>10</td>\n",
              "      <td>Planeering on kehtiv</td>\n",
              "      <td>2021-03-02</td>\n",
              "      <td>2021-06-08</td>\n",
              "      <td>2021-07-20</td>\n",
              "      <td>None</td>\n",
              "      <td>https://www.viljandivald.ee/detailplaneeringud...</td>\n",
              "      <td>None</td>\n",
              "      <td>None</td>\n",
              "      <td>Maa-ameti digiarhiivi esitatud</td>\n",
              "      <td>arhiveeritud ja digiteeritud</td>\n",
              "      <td>jah</td>\n",
              "      <td>digiteeritud ja esitatud kehtestamisel</td>\n",
              "      <td>None</td>\n",
              "      <td>MA sisestatud</td>\n",
              "      <td>2021-09-14</td>\n",
              "      <td>POLYGON ((609888.050 6456419.210, 609911.940 6...</td>\n",
              "    </tr>\n",
              "    <tr>\n",
              "      <th>318</th>\n",
              "      <td>detail_plan_ala.318</td>\n",
              "      <td>21667</td>\n",
              "      <td>95492</td>\n",
              "      <td>DP_plan_ala</td>\n",
              "      <td>17</td>\n",
              "      <td>NaN</td>\n",
              "      <td>HARJUMAA, HARKU VALD, RANNAMÕISA KÜLA\\nTÄNAVAO...</td>\n",
              "      <td>30</td>\n",
              "      <td>Detailplaneering</td>\n",
              "      <td>Detailplaneeringu koostamise eesmärgiks on sel...</td>\n",
              "      <td>10</td>\n",
              "      <td>Planeering on kehtiv</td>\n",
              "      <td>2016-04-28</td>\n",
              "      <td>None</td>\n",
              "      <td>2021-06-28</td>\n",
              "      <td>ei</td>\n",
              "      <td>https://kaart.harku.ee/DP/160216_4/avalik/Keht...</td>\n",
              "      <td>None</td>\n",
              "      <td>None</td>\n",
              "      <td>Maa-ameti digiarhiivi esitatud</td>\n",
              "      <td>arhiveeritud ja digiteeritud</td>\n",
              "      <td>jah</td>\n",
              "      <td>digiteeritud ja esitatud kehtestamisel</td>\n",
              "      <td>None</td>\n",
              "      <td>MA sisestatud</td>\n",
              "      <td>2021-09-15</td>\n",
              "      <td>POLYGON ((529561.290 6587563.450, 529823.564 6...</td>\n",
              "    </tr>\n",
              "    <tr>\n",
              "      <th>319</th>\n",
              "      <td>detail_plan_ala.319</td>\n",
              "      <td>21668</td>\n",
              "      <td>95992</td>\n",
              "      <td>DP_plan_ala</td>\n",
              "      <td>27</td>\n",
              "      <td>NaN</td>\n",
              "      <td>Võru 78a ja 78b krundi detailplaneering</td>\n",
              "      <td>30</td>\n",
              "      <td>Detailplaneering</td>\n",
              "      <td>Määrata Võru tn 78a ja Võru tn 78b kruntide li...</td>\n",
              "      <td>10</td>\n",
              "      <td>Planeering on kehtiv</td>\n",
              "      <td>2019-02-05</td>\n",
              "      <td>2021-06-14</td>\n",
              "      <td>2021-08-04</td>\n",
              "      <td>None</td>\n",
              "      <td>https://www.valga.ee/ru/238</td>\n",
              "      <td>None</td>\n",
              "      <td>None</td>\n",
              "      <td>Maa-ameti digiarhiivi esitatud</td>\n",
              "      <td>arhiveeritud ja digiteeritud</td>\n",
              "      <td>jah</td>\n",
              "      <td>digiteeritud ja esitatud kehtestamisel</td>\n",
              "      <td>None</td>\n",
              "      <td>MA sisestatud</td>\n",
              "      <td>2021-09-15</td>\n",
              "      <td>POLYGON ((622985.950 6404963.410, 622942.720 6...</td>\n",
              "    </tr>\n",
              "  </tbody>\n",
              "</table>\n",
              "<p>320 rows × 27 columns</p>\n",
              "</div>"
            ],
            "text/plain": [
              "                      id  ...                                           geometry\n",
              "0      detail_plan_ala.0  ...  MULTILINESTRING ((405637.830 6453995.890, 4056...\n",
              "1      detail_plan_ala.1  ...  MULTILINESTRING ((728955.000 6599304.019, 7289...\n",
              "2      detail_plan_ala.2  ...  POLYGON ((532432.710 6574761.520, 532422.860 6...\n",
              "3      detail_plan_ala.3  ...  POLYGON ((531739.900 6579651.330, 531738.210 6...\n",
              "4      detail_plan_ala.4  ...  POLYGON ((529459.550 6580755.884, 529541.414 6...\n",
              "..                   ...  ...                                                ...\n",
              "315  detail_plan_ala.315  ...  POLYGON ((542728.030 6588999.680, 542735.280 6...\n",
              "316  detail_plan_ala.316  ...  POLYGON ((543119.790 6588659.300, 543076.410 6...\n",
              "317  detail_plan_ala.317  ...  POLYGON ((609888.050 6456419.210, 609911.940 6...\n",
              "318  detail_plan_ala.318  ...  POLYGON ((529561.290 6587563.450, 529823.564 6...\n",
              "319  detail_plan_ala.319  ...  POLYGON ((622985.950 6404963.410, 622942.720 6...\n",
              "\n",
              "[320 rows x 27 columns]"
            ]
          },
          "metadata": {},
          "execution_count": 11
        }
      ]
    },
    {
      "cell_type": "markdown",
      "metadata": {
        "id": "huC3siaA_HOM"
      },
      "source": [
        ""
      ]
    },
    {
      "cell_type": "code",
      "metadata": {
        "colab": {
          "base_uri": "https://localhost:8080/",
          "height": 461
        },
        "id": "i5ScoSPc9Ris",
        "outputId": "8d3ad553-570a-4b0a-a7bb-c309be9ac5c7"
      },
      "source": [
        "data[\"plan_kihid\"].value_counts()[:10].plot(kind='bar')"
      ],
      "execution_count": 15,
      "outputs": [
        {
          "output_type": "execute_result",
          "data": {
            "text/plain": [
              "<matplotlib.axes._subplots.AxesSubplot at 0x7f89be7bf750>"
            ]
          },
          "metadata": {},
          "execution_count": 15
        },
        {
          "output_type": "display_data",
          "data": {
            "image/png": "[encoded data removed]",
            "text/plain": [
              "<Figure size 432x288 with 1 Axes>"
            ]
          },
          "metadata": {
            "needs_background": "light"
          }
        }
      ]
    },
    {
      "cell_type": "code",
      "metadata": {
        "colab": {
          "base_uri": "https://localhost:8080/"
        },
        "id": "kGJKtK8gW83F",
        "outputId": "678ecf2d-0ae3-4430-e679-3dcbffd8bfe0"
      },
      "source": [
        "pd.unique(data[\"vastuvkp\"])"
      ],
      "execution_count": 23,
      "outputs": [
        {
          "output_type": "execute_result",
          "data": {
            "text/plain": [
              "array(['2020-11-11', '2010-09-29', None, '2021-01-28', '2006-03-27',\n",
              "       '2020-12-22', '2021-04-07', '2020-02-25', '2000-06-15',\n",
              "       '2017-01-04', '2020-08-18', '2020-07-07', '2020-09-18',\n",
              "       '2019-12-18', '2019-11-12', '2020-06-04', '2020-11-12',\n",
              "       '2020-03-16', '2020-10-07', '2020-09-08', '2020-09-22',\n",
              "       '2020-06-29', '2020-04-30', '2019-07-31', '2020-11-26',\n",
              "       '2020-07-23', '2020-05-26', '2020-02-20', '2020-09-24',\n",
              "       '2019-10-31', '2020-07-29', '2020-08-11', '2020-08-27',\n",
              "       '2020-07-22', '2020-03-23', '2020-02-10', '2020-08-28',\n",
              "       '2019-02-05', '2020-09-21', '2020-07-20', '2020-09-14',\n",
              "       '2020-09-17', '2020-06-08', '2020-04-29', '2020-05-28',\n",
              "       '2020-10-14', '2020-10-26', '2020-10-19', '2020-11-17',\n",
              "       '2018-08-22', '2020-04-07', '2018-11-29', '2020-12-31',\n",
              "       '2018-12-18', '2020-11-10', '2020-11-30', '2019-05-21',\n",
              "       '2020-12-17', '2018-12-27', '2020-12-10', '2020-10-27',\n",
              "       '2020-11-09', '2020-12-08', '2020-12-30', '2021-01-13',\n",
              "       '1899-12-30', '2007-12-17', '2014-06-03', '2016-04-12',\n",
              "       '2016-04-05', '2013-01-18', '2004-10-12', '2019-11-26',\n",
              "       '2020-12-28', '2019-04-17', '2013-09-19', '2019-10-30',\n",
              "       '2021-03-02', '2013-01-29', '2021-04-06', '2020-02-12',\n",
              "       '2021-01-20', '2020-09-16', '2021-02-23', '2021-04-05',\n",
              "       '2018-05-30', '2019-05-31', '2021-03-24', '2020-12-16',\n",
              "       '2020-05-08', '2021-02-10', '2020-04-03', '2020-10-01',\n",
              "       '2021-02-25', '2021-04-12', '2021-04-13', '2020-11-25',\n",
              "       '2017-08-09', '2021-01-12', '2019-10-23', '2020-05-19',\n",
              "       '2016-06-22', '2020-12-01', '2020-05-27', '2021-05-19',\n",
              "       '2021-03-31', '2020-10-10', '2021-05-04', '2020-07-16',\n",
              "       '2021-03-25', '2021-04-29', '2021-03-15', '2021-03-18',\n",
              "       '2021-05-25', '2021-04-21', '2021-06-10', '2021-06-21',\n",
              "       '2020-11-16', '2021-05-31', '2021-06-08', '2021-06-14'],\n",
              "      dtype=object)"
            ]
          },
          "metadata": {},
          "execution_count": 23
        }
      ]
    },
    {
      "cell_type": "code",
      "metadata": {
        "id": "G39xyShlXZtS"
      },
      "source": [
        "*"
      ],
      "execution_count": null,
      "outputs": []
    }
  ]
}